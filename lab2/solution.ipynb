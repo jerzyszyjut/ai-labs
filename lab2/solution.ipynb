{
 "cells": [
  {
   "cell_type": "code",
   "execution_count": null,
   "id": "48231dc78d383ec7",
   "metadata": {
    "ExecuteTime": {
     "end_time": "2024-03-14T08:15:24.863823Z",
     "start_time": "2024-03-14T08:15:24.043644Z"
    },
    "collapsed": false
   },
   "outputs": [],
   "source": [
    "import time\n",
    "import random\n",
    "import matplotlib.pyplot as plt\n",
    "from data import *\n",
    "from for_students import *"
   ]
  },
  {
   "cell_type": "code",
   "execution_count": null,
   "id": "5f7f3aed69054b8c",
   "metadata": {
    "ExecuteTime": {
     "end_time": "2024-03-14T08:15:24.884263Z",
     "start_time": "2024-03-14T08:15:24.865295Z"
    },
    "collapsed": false
   },
   "outputs": [],
   "source": [
    "items, knapsack_max_capacity = get_big()\n",
    "print(items)\n",
    "print(knapsack_max_capacity)"
   ]
  },
  {
   "cell_type": "code",
   "execution_count": null,
   "id": "ed6f8bb6",
   "metadata": {
    "ExecuteTime": {
     "end_time": "2024-03-14T08:15:24.894503Z",
     "start_time": "2024-03-14T08:15:24.886311Z"
    }
   },
   "outputs": [],
   "source": [
    "def roulette_wheel_selection(population, fitness):\n",
    "    total_fitness = sum(fitness)\n",
    "    relative_fitness = [f/total_fitness for f in fitness]\n",
    "    return random.choices(population, weights=relative_fitness, k=2)\n",
    "\n",
    "def crossover(parent1, parent2):\n",
    "    crossover_point = len(parent1) // 2\n",
    "    child1 = parent1[:crossover_point] + parent2[crossover_point:]\n",
    "    child2 = parent2[:crossover_point] + parent1[crossover_point:]\n",
    "    return child1, child2\n",
    "\n",
    "def mutate(child, mutation_rate):\n",
    "    if random.random() < mutation_rate:\n",
    "        index = random.randint(0, len(child) - 1)\n",
    "        child[index] = not child[index]\n",
    "    return child\n",
    "\n",
    "def crossover_parents(parents):\n",
    "    new_population = []\n",
    "    for i in range(0, len(parents), 2):\n",
    "        parent1 = parents[i]\n",
    "        parent2 = parents[i+1]\n",
    "        child1, child2 = crossover(parent1, parent2)\n",
    "        new_population.append(child1)\n",
    "        new_population.append(child2)\n",
    "\n",
    "    return new_population\n",
    "\n",
    "def mutate_population(population, mutation_rate):\n",
    "    return [mutate(child, mutation_rate) for child in population]\n",
    "\n"
   ]
  },
  {
   "cell_type": "code",
   "execution_count": null,
   "id": "1c9cd4ea18085808",
   "metadata": {
    "ExecuteTime": {
     "end_time": "2024-03-14T08:34:18.217449Z",
     "start_time": "2024-03-14T08:34:17.323493Z"
    },
    "collapsed": false
   },
   "outputs": [],
   "source": [
    "population_size = 100\n",
    "generations = 200\n",
    "n_elite = 8\n",
    "n_selection = population_size - n_elite\n",
    "mutation_rate = 1\n",
    "\n",
    "start_time = time.time()\n",
    "best_solution = None\n",
    "best_fitness = 0\n",
    "population_history = []\n",
    "best_history = []\n",
    "population = initial_population(len(items), population_size)\n",
    "for _ in range(generations):\n",
    "    population_history.append(population)\n",
    "\n",
    "    new_population = []\n",
    "    best_individual, best_individual_fitness = population_best(items, knapsack_max_capacity, population)\n",
    "\n",
    "    fitnesses = [fitness(items, knapsack_max_capacity, individual) for individual in population]\n",
    "    population_with_fitness = list(zip(population, fitnesses))\n",
    "    population_with_fitness.sort(key=lambda x: x[1])\n",
    "\n",
    "    elite_individuals = population_with_fitness[-n_elite:]\n",
    "    new_population.extend([individual for individual, _ in elite_individuals])\n",
    "\n",
    "    parent_candidates = population_with_fitness[-n_selection:]\n",
    "    parents = [individual for individual, _ in parent_candidates]\n",
    "    children = crossover_parents(parents)\n",
    "    children = mutate_population(children, mutation_rate)\n",
    "    new_population.extend(children)\n",
    "\n",
    "    population = new_population\n",
    "\n",
    "    if best_individual_fitness > best_fitness:\n",
    "        best_solution = best_individual\n",
    "        best_fitness = best_individual_fitness\n",
    "    best_history.append(best_fitness)\n",
    "\n",
    "end_time = time.time()\n",
    "total_time = end_time - start_time\n",
    "print('Best solution:', list(compress(items['Name'], best_solution)))\n",
    "print('Best solution value:', best_fitness)\n",
    "print('Time: ', total_time)"
   ]
  },
  {
   "cell_type": "code",
   "execution_count": null,
   "id": "a2f731e2ebe7aee6",
   "metadata": {
    "ExecuteTime": {
     "end_time": "2024-03-14T08:44:29.665866Z",
     "start_time": "2024-03-14T08:44:29.299297Z"
    },
    "collapsed": false
   },
   "outputs": [],
   "source": [
    "# plot generations\n",
    "x = []\n",
    "y = []\n",
    "top_best = 10\n",
    "for i, population in enumerate(population_history):\n",
    "    plotted_individuals = min(len(population), top_best)\n",
    "    x.extend([i] * plotted_individuals)\n",
    "    population_fitnesses = [fitness(items, knapsack_max_capacity, individual) for individual in population]\n",
    "    population_fitnesses.sort(reverse=True)\n",
    "    y.extend(population_fitnesses[:plotted_individuals])\n",
    "plt.scatter(x, y, marker='.')\n",
    "plt.plot(best_history, 'r')\n",
    "plt.xlabel('Generation')\n",
    "plt.ylabel('Fitness')\n",
    "plt.show()"
   ]
  }
 ],
 "metadata": {
  "kernelspec": {
   "display_name": "Python 3",
   "language": "python",
   "name": "python3"
  },
  "language_info": {
   "codemirror_mode": {
    "name": "ipython",
    "version": 3
   },
   "file_extension": ".py",
   "mimetype": "text/x-python",
   "name": "python",
   "nbconvert_exporter": "python",
   "pygments_lexer": "ipython3",
   "version": "3.12.4"
  }
 },
 "nbformat": 4,
 "nbformat_minor": 5
}
