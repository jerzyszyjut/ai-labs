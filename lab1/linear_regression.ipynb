{
 "cells": [
  {
   "cell_type": "markdown",
   "id": "b979483318f366d6",
   "metadata": {},
   "source": [
    "# Imports"
   ]
  },
  {
   "cell_type": "code",
   "execution_count": null,
   "id": "de307b5cec07d1d4",
   "metadata": {
    "ExecuteTime": {
     "end_time": "2024-02-25T12:33:43.952953526Z",
     "start_time": "2024-02-25T12:33:43.825754704Z"
    }
   },
   "outputs": [],
   "source": [
    "import pandas as pd\n",
    "import seaborn as sns\n",
    "import numpy as np\n",
    "import matplotlib.pyplot as plt"
   ]
  },
  {
   "cell_type": "markdown",
   "id": "5e9ea998ed773524",
   "metadata": {},
   "source": [
    "# Data \n",
    "## Get data"
   ]
  },
  {
   "cell_type": "code",
   "execution_count": null,
   "id": "9042933a6bc29834",
   "metadata": {
    "ExecuteTime": {
     "end_time": "2024-02-25T12:33:44.981444811Z",
     "start_time": "2024-02-25T12:33:43.960759537Z"
    }
   },
   "outputs": [],
   "source": [
    "url = 'http://archive.ics.uci.edu/ml/machine-learning-databases/auto-mpg/auto-mpg.data'\n",
    "column_names = ['MPG', 'Cylinders', 'Displacement', 'Horsepower', 'Weight',\n",
    "                'Acceleration', 'Model Year', 'Origin']\n",
    "\n",
    "raw_dataset = pd.read_csv(url, names=column_names, na_values='?', comment='\\t',\n",
    "                          sep=' ', skipinitialspace=True)\n",
    "\n",
    "# remove entries with missing values\n",
    "dataset = raw_dataset.dropna()\n",
    "# from sklearn import preprocessing\n",
    "# normalized_features = preprocessing.StandardScaler().fit_transform(dataset)\n",
    "# dataset = pd.DataFrame(data=normalized_features, columns=column_names) "
   ]
  },
  {
   "cell_type": "markdown",
   "id": "533caa3457b68fe4",
   "metadata": {},
   "source": [
    "## Inspect Data"
   ]
  },
  {
   "cell_type": "code",
   "execution_count": null,
   "id": "f89b14dec580526f",
   "metadata": {
    "ExecuteTime": {
     "end_time": "2024-02-25T12:33:54.231963441Z",
     "start_time": "2024-02-25T12:33:44.978011280Z"
    }
   },
   "outputs": [],
   "source": [
    "print('Dataset shape:')\n",
    "print(dataset.shape)\n",
    "\n",
    "print('Tail:')\n",
    "print(dataset.tail())\n",
    "\n",
    "print('Statistics:')\n",
    "print(dataset.describe().transpose())\n",
    "\n",
    "sns.pairplot(dataset[['MPG', 'Cylinders', 'Displacement', 'Weight']], diag_kind='kde')\n",
    "plt.show()"
   ]
  },
  {
   "cell_type": "markdown",
   "id": "2a02f2efb627b212",
   "metadata": {},
   "source": [
    "## Split dataset"
   ]
  },
  {
   "cell_type": "code",
   "execution_count": null,
   "id": "initial_id",
   "metadata": {
    "ExecuteTime": {
     "end_time": "2024-02-25T12:33:54.247756774Z",
     "start_time": "2024-02-25T12:33:54.234001140Z"
    }
   },
   "outputs": [],
   "source": [
    "train_dataset = dataset.sample(frac=0.8, random_state=0)\n",
    "test_dataset = dataset.drop(train_dataset.index)\n"
   ]
  },
  {
   "cell_type": "markdown",
   "id": "260a3967f1995da8",
   "metadata": {},
   "source": [
    "# Simple Linear Regression\n",
    "predict MPG (y, dependent variable) using Weight (x, independent variable) using closed-form solution y = theta_0 + theta_1 * x - we want to find theta_0 and theta_1 parameters that minimize the prediction error\n",
    "\n",
    "We can calculate the error using MSE metric: \n",
    "MSE = SUM (from i=1 to n) (actual_output - predicted_output) ** 2"
   ]
  },
  {
   "cell_type": "code",
   "execution_count": null,
   "id": "1f5fdb22d9359e35",
   "metadata": {
    "ExecuteTime": {
     "end_time": "2024-02-25T12:33:54.545192678Z",
     "start_time": "2024-02-25T12:33:54.242584151Z"
    }
   },
   "outputs": [],
   "source": [
    "# get the columns\n",
    "y_train = train_dataset['MPG'].to_numpy()\n",
    "x_train = train_dataset['Weight'].to_numpy()\n",
    "\n",
    "y_test = test_dataset['MPG'].to_numpy()\n",
    "x_test = test_dataset['Weight'].to_numpy()\n"
   ]
  },
  {
   "cell_type": "markdown",
   "id": "79bf738da917a87f",
   "metadata": {},
   "source": [
    "## Closed-form solution"
   ]
  },
  {
   "cell_type": "code",
   "execution_count": null,
   "id": "83cf7f6ab1131b7c",
   "metadata": {
    "ExecuteTime": {
     "end_time": "2024-02-25T12:33:54.548600039Z",
     "start_time": "2024-02-25T12:33:54.262022856Z"
    }
   },
   "outputs": [],
   "source": [
    "X = np.c_[np.ones((len(x_train), 1)), x_train]\n",
    "theta_best = np.linalg.inv(X.T.dot(X)).dot(X.T).dot(y_train)\n",
    "print('Theta:', theta_best)"
   ]
  },
  {
   "cell_type": "markdown",
   "id": "c1b6acaaeaeb7c00",
   "metadata": {},
   "source": [
    "## Calculate error"
   ]
  },
  {
   "cell_type": "code",
   "execution_count": null,
   "id": "b7873a4c3adc8aa8",
   "metadata": {
    "ExecuteTime": {
     "end_time": "2024-02-25T12:33:54.659867161Z",
     "start_time": "2024-02-25T12:33:54.279246136Z"
    }
   },
   "outputs": [],
   "source": [
    "def calculate_mse(_theta, _x, _y):\n",
    "    m = len(_x)\n",
    "    y_p = _x.dot(_theta)\n",
    "    return np.sum((y_p - _y) ** 2) / m\n",
    "\n",
    "X_test = np.c_[np.ones((len(x_test), 1)), x_test]\n",
    "X_train = np.c_[np.ones((len(x_train), 1)), x_train]\n",
    "\n",
    "print('MSE for train set:', calculate_mse(theta_best, X_train, y_train))\n",
    "print('MSE for test set:', calculate_mse(theta_best, X_test, y_test))\n"
   ]
  },
  {
   "cell_type": "markdown",
   "id": "2a633e964ca4b86d",
   "metadata": {},
   "source": [
    "## Plot the regression line"
   ]
  },
  {
   "cell_type": "code",
   "execution_count": null,
   "id": "4ee005e7d41c8977",
   "metadata": {
    "ExecuteTime": {
     "end_time": "2024-02-25T12:33:54.748657827Z",
     "start_time": "2024-02-25T12:33:54.296367794Z"
    }
   },
   "outputs": [],
   "source": [
    "x = np.linspace(min(x_test), max(x_test), 100)\n",
    "y = float(theta_best[0]) + float(theta_best[1]) * x\n",
    "plt.plot(x, y)\n",
    "plt.scatter(x_test, y_test)\n",
    "plt.xlabel('Weight')\n",
    "plt.ylabel('MPG')\n",
    "plt.show()"
   ]
  },
  {
   "cell_type": "markdown",
   "id": "29b327e8b5351b14",
   "metadata": {},
   "source": [
    "## Standardization"
   ]
  },
  {
   "cell_type": "code",
   "execution_count": null,
   "id": "31440eeea5ed8844",
   "metadata": {
    "ExecuteTime": {
     "end_time": "2024-02-25T12:33:54.774773053Z",
     "start_time": "2024-02-25T12:33:54.745574549Z"
    }
   },
   "outputs": [],
   "source": [
    "x_standard_deviation = np.std(x_train)\n",
    "x_average = np.average(x_train)\n",
    "y_standard_deviation = np.std(y_train)\n",
    "y_average = np.average(y_train)\n",
    "\n",
    "x_train_standardized = (x_train - x_average) / x_standard_deviation\n",
    "y_train_standardized = (y_train - y_average) / y_standard_deviation\n",
    "x_test_standardized = (x_test - x_average) / x_standard_deviation\n",
    "y_test_standardized = (y_test - y_average) / y_standard_deviation\n",
    "\n",
    "X_train_standardized = np.c_[np.ones((len(x_train_standardized), 1)), x_train_standardized]\n",
    "X_test_standardized = np.c_[np.ones((len(x_test_standardized), 1)), x_test_standardized]\n",
    "Y_train_standardized = y_train_standardized.reshape(-1, 1)\n",
    "Y_test_standardized = y_test_standardized.reshape(-1, 1)\n"
   ]
  },
  {
   "cell_type": "markdown",
   "id": "8c68df0c4124dd8d",
   "metadata": {},
   "source": [
    "## Calculate theta using Batch Gradient Descent"
   ]
  },
  {
   "cell_type": "code",
   "execution_count": null,
   "id": "642e9ca176f8682f",
   "metadata": {
    "ExecuteTime": {
     "end_time": "2024-02-25T12:33:56.746610532Z",
     "start_time": "2024-02-25T12:33:54.754218485Z"
    },
    "collapsed": false
   },
   "outputs": [],
   "source": [
    "#theta = theta_best.reshape(-1, 1)\n",
    "theta = np.random.randn(2, 1)\n",
    "eta = 0.0001\n",
    "\n",
    "def calculate_mse_gradient(_theta, _x, _y):\n",
    "    m = len(_x)\n",
    "    return 2/m * (_x.T.dot(_x.dot(_theta) - _y))\n",
    "\n",
    "def calculate_theta_using_batch_gradient_descent(_theta, _x, _y, _eta):\n",
    "    previous_mse = None\n",
    "    while True:\n",
    "        gradients = calculate_mse_gradient(_theta, _x, _y)\n",
    "        _theta = _theta - _eta * gradients\n",
    "        current_mse = calculate_mse(_theta, _x, _y)\n",
    "        if previous_mse is not None and current_mse == previous_mse:\n",
    "            break\n",
    "        previous_mse = current_mse\n",
    "    return _theta\n",
    "\n",
    "theta = calculate_theta_using_batch_gradient_descent(theta, X_train_standardized, Y_train_standardized, eta)"
   ]
  },
  {
   "cell_type": "code",
   "execution_count": null,
   "id": "c526f49b2fd19374",
   "metadata": {
    "ExecuteTime": {
     "end_time": "2024-02-25T12:33:56.762602851Z",
     "start_time": "2024-02-25T12:33:56.753040606Z"
    }
   },
   "outputs": [],
   "source": [
    "scaled_theta = theta.copy()\n",
    "scaled_theta[1] = scaled_theta[1] * y_standard_deviation / x_standard_deviation\n",
    "scaled_theta[0] = y_average - scaled_theta[1] * x_average\n",
    "scaled_theta = scaled_theta.reshape(-1)\n",
    "\n",
    "print('Theta:', scaled_theta)\n",
    "print('Best theta:', theta_best)\n"
   ]
  },
  {
   "cell_type": "markdown",
   "id": "99e6f0b7c741cf6a",
   "metadata": {
    "collapsed": false
   },
   "source": [
    "## Calculate error"
   ]
  },
  {
   "cell_type": "code",
   "execution_count": null,
   "id": "5551dff2490a97e8",
   "metadata": {
    "ExecuteTime": {
     "end_time": "2024-02-25T12:33:56.823933553Z",
     "start_time": "2024-02-25T12:33:56.766746136Z"
    }
   },
   "outputs": [],
   "source": [
    "print('MSE for train set:', calculate_mse(scaled_theta, X_train, y_train))\n",
    "print('MSE for test set:', calculate_mse(scaled_theta, X_test, y_test))\n",
    "print('MSE for train set (closed-form solution):', calculate_mse(theta_best, X_train, y_train))\n",
    "print('MSE for test set (closed-form solution):', calculate_mse(theta_best, X_test, y_test))"
   ]
  },
  {
   "cell_type": "code",
   "execution_count": null,
   "id": "42644b0e4d2f32fa",
   "metadata": {
    "ExecuteTime": {
     "end_time": "2024-02-25T12:33:57.168085068Z",
     "start_time": "2024-02-25T12:33:56.799755916Z"
    },
    "collapsed": false
   },
   "outputs": [],
   "source": [
    "x = np.linspace(min(x_test), max(x_test), 100)\n",
    "y = float(scaled_theta[0]) + float(scaled_theta[1]) * x\n",
    "plt.plot(x, y)\n",
    "plt.scatter(x_test, y_test)\n",
    "plt.xlabel('Weight')\n",
    "plt.ylabel('MPG')\n",
    "plt.show()"
   ]
  }
 ],
 "metadata": {
  "kernelspec": {
   "display_name": "Python 3 (ipykernel)",
   "language": "python",
   "name": "python3"
  },
  "language_info": {
   "codemirror_mode": {
    "name": "ipython",
    "version": 3
   },
   "file_extension": ".py",
   "mimetype": "text/x-python",
   "name": "python",
   "nbconvert_exporter": "python",
   "pygments_lexer": "ipython3",
   "version": "3.12.4"
  }
 },
 "nbformat": 4,
 "nbformat_minor": 5
}
